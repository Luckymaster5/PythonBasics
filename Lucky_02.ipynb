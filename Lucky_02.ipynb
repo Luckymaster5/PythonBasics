{
  "nbformat": 4,
  "nbformat_minor": 0,
  "metadata": {
    "colab": {
      "provenance": [],
      "authorship_tag": "ABX9TyNp0St0rABEkFdl5OILVSW+",
      "include_colab_link": true
    },
    "kernelspec": {
      "name": "python3",
      "display_name": "Python 3"
    },
    "language_info": {
      "name": "python"
    }
  },
  "cells": [
    {
      "cell_type": "markdown",
      "metadata": {
        "id": "view-in-github",
        "colab_type": "text"
      },
      "source": [
        "<a href=\"https://colab.research.google.com/github/Luckymaster5/PythonBasics/blob/main/Lucky_02.ipynb\" target=\"_parent\"><img src=\"https://colab.research.google.com/assets/colab-badge.svg\" alt=\"Open In Colab\"/></a>"
      ]
    },
    {
      "cell_type": "code",
      "execution_count": null,
      "metadata": {
        "colab": {
          "base_uri": "https://localhost:8080/"
        },
        "id": "LePMG9U1bQ_-",
        "outputId": "bf67dc41-12d5-47e2-f9e3-38b196e49a51"
      },
      "outputs": [
        {
          "output_type": "stream",
          "name": "stdout",
          "text": [
            "10\n"
          ]
        }
      ],
      "source": []
    },
    {
      "cell_type": "code",
      "source": [
        "def add():\n",
        "  a=int(input('enter 1st number: '))\n",
        "  b=int(input('enter 2nd number: '))\n",
        "  print(a+b)\n",
        "\n",
        "add()"
      ],
      "metadata": {
        "colab": {
          "base_uri": "https://localhost:8080/"
        },
        "id": "DmR-CVmpgXhz",
        "outputId": "f6d4865e-6a69-4e30-b591-011ef2033531"
      },
      "execution_count": null,
      "outputs": [
        {
          "output_type": "stream",
          "name": "stdout",
          "text": [
            "enter 1st number: 9\n",
            "enter 2nd number: 8\n",
            "17\n"
          ]
        }
      ]
    },
    {
      "cell_type": "code",
      "source": [
        "def welcome():\n",
        "  fn=input('enter first name: ')\n",
        "  ln=input('enter last name: ')\n",
        "  print('Hello, Welcome',fn,ln,'!!')\n",
        "  sl=input('Which state do you live in?')\n",
        "  print('Wow, you live in', sl)\n",
        "  ll=input('is it hot there?')\n",
        "  print('Thats what I thought', ll)\n",
        "\n",
        "welcome()"
      ],
      "metadata": {
        "colab": {
          "base_uri": "https://localhost:8080/"
        },
        "id": "OE-J0QKupklx",
        "outputId": "4f44b190-8f38-4bdd-b1b0-98be54fb25fa"
      },
      "execution_count": 2,
      "outputs": [
        {
          "output_type": "stream",
          "name": "stdout",
          "text": [
            "enter first name: lakshay\n",
            "enter last name: saini\n",
            "Hello, Welcome lakshay saini !!\n",
            "Which state do you live in?texas\n",
            "Wow, you live in texas\n",
            "is it hot there?yes\n",
            "Thats what I thought yes\n"
          ]
        }
      ]
    },
    {
      "cell_type": "code",
      "source": [
        "for j in range(10):\n",
        "    for h in range(2):\n",
        "     print(j*2)"
      ],
      "metadata": {
        "colab": {
          "base_uri": "https://localhost:8080/"
        },
        "id": "SbOdtzH5W0WW",
        "outputId": "bd1984e0-c019-4448-8d32-82e1b672729e"
      },
      "execution_count": 9,
      "outputs": [
        {
          "output_type": "stream",
          "name": "stdout",
          "text": [
            "0\n",
            "0\n",
            "2\n",
            "2\n",
            "4\n",
            "4\n",
            "6\n",
            "6\n",
            "8\n",
            "8\n",
            "10\n",
            "10\n",
            "12\n",
            "12\n",
            "14\n",
            "14\n",
            "16\n",
            "16\n",
            "18\n",
            "18\n"
          ]
        }
      ]
    },
    {
      "cell_type": "code",
      "source": [
        "def calculater():\n",
        "    d=input('enter first number: ')\n",
        "    di=int(d)\n",
        "    e=input('enter second number: ')\n",
        "    ei=int(e)\n",
        "    print('multiplication:', di*ei)\n",
        "    print('addition:', di+ei)\n",
        "    print('subtraction:', di-ei)\n",
        "    print('division:', di/ei)\n",
        "\n",
        "calculater()\n"
      ],
      "metadata": {
        "colab": {
          "base_uri": "https://localhost:8080/"
        },
        "id": "FdYfqFB6vJOU",
        "outputId": "4a2a0d09-29c6-4d8d-8178-7353bdd5f425"
      },
      "execution_count": null,
      "outputs": [
        {
          "output_type": "stream",
          "name": "stdout",
          "text": [
            "enter first number: 6\n",
            "enter second number: 6\n",
            "multiplication: 36\n",
            "addition: 12\n",
            "subtraction: 0\n",
            "division: 1.0\n"
          ]
        }
      ]
    },
    {
      "cell_type": "code",
      "source": [
        "calculater()"
      ],
      "metadata": {
        "colab": {
          "base_uri": "https://localhost:8080/"
        },
        "id": "Z8KmxPdbzBhf",
        "outputId": "2d7b915f-ca5d-41a0-9082-8adf7df43cd2"
      },
      "execution_count": null,
      "outputs": [
        {
          "output_type": "stream",
          "name": "stdout",
          "text": [
            "enter first number: 321\n",
            "enter second number: 123\n",
            "multiplication: 39483\n",
            "addition: 444\n",
            "subtraction: 198\n",
            "division: 2.6097560975609757\n"
          ]
        }
      ]
    },
    {
      "cell_type": "code",
      "source": [
        "add()"
      ],
      "metadata": {
        "colab": {
          "base_uri": "https://localhost:8080/"
        },
        "id": "Q8gSyQ4yhCzT",
        "outputId": "9881f4f1-b96a-4e80-80c5-bac918d07f06"
      },
      "execution_count": null,
      "outputs": [
        {
          "output_type": "stream",
          "name": "stdout",
          "text": [
            "enter first name: pr\n",
            "enter last name: gfd\n",
            "Hello\n",
            "pr\n",
            "gfd\n"
          ]
        }
      ]
    },
    {
      "cell_type": "code",
      "source": [
        "for i in range(10):\n",
        "  for x in range(1):\n",
        "    print('*'*i*2)\n"
      ],
      "metadata": {
        "colab": {
          "base_uri": "https://localhost:8080/"
        },
        "id": "QjVQI9tb2ejK",
        "outputId": "80d3026e-e1b9-44a2-f303-198f2356dac1"
      },
      "execution_count": 2,
      "outputs": [
        {
          "output_type": "stream",
          "name": "stdout",
          "text": [
            "\n",
            "**\n",
            "****\n",
            "******\n",
            "********\n",
            "**********\n",
            "************\n",
            "**************\n",
            "****************\n",
            "******************\n"
          ]
        }
      ]
    },
    {
      "cell_type": "code",
      "source": [
        "for i in range(1):\n",
        "  age= int(input('Enter your age:'))\n",
        "  if age < 10:\n",
        "    print('you are a kid')\n",
        "  else:\n",
        "    print('you are kalu')\n",
        ""
      ],
      "metadata": {
        "colab": {
          "base_uri": "https://localhost:8080/"
        },
        "id": "PFrg3QYFKHjI",
        "outputId": "d6f259b1-81d3-491f-d1dc-ba54b22b0ae3"
      },
      "execution_count": 12,
      "outputs": [
        {
          "output_type": "stream",
          "name": "stdout",
          "text": [
            "Enter your age:5\n",
            "you are a kid\n"
          ]
        }
      ]
    },
    {
      "cell_type": "code",
      "source": [
        "a= int(input('enter any number'))\n",
        "while a>-1:\n",
        "  print(a)\n",
        "  a=a-1"
      ],
      "metadata": {
        "colab": {
          "base_uri": "https://localhost:8080/"
        },
        "id": "wy1icZojMlNM",
        "outputId": "0bf7cc1f-4093-4446-a181-0c0321aa3ee8"
      },
      "execution_count": 29,
      "outputs": [
        {
          "output_type": "stream",
          "name": "stdout",
          "text": [
            "enter any number10\n",
            "10\n",
            "9\n",
            "8\n",
            "7\n",
            "6\n",
            "5\n",
            "4\n",
            "3\n",
            "2\n",
            "1\n",
            "0\n"
          ]
        }
      ]
    },
    {
      "cell_type": "code",
      "source": [
        "a= int(input('enter any number'))\n",
        "b=0\n",
        "while a>0:\n",
        "  print(b,'+',a,'=',b+a)\n",
        "  b=b+a\n",
        "  a=a-1"
      ],
      "metadata": {
        "colab": {
          "base_uri": "https://localhost:8080/"
        },
        "id": "6DKLuR0CPdTq",
        "outputId": "76ca6d21-1671-4452-f97e-d21f02429c1a"
      },
      "execution_count": 39,
      "outputs": [
        {
          "output_type": "stream",
          "name": "stdout",
          "text": [
            "enter any number5\n",
            "0 + 5 = 5\n",
            "5 + 4 = 9\n",
            "9 + 3 = 12\n",
            "12 + 2 = 14\n",
            "14 + 1 = 15\n"
          ]
        }
      ]
    }
  ]
}