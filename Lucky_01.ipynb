{
  "nbformat": 4,
  "nbformat_minor": 0,
  "metadata": {
    "colab": {
      "provenance": [],
      "authorship_tag": "ABX9TyOvihDkVlWUr8Z2y5tCbjx3",
      "include_colab_link": true
    },
    "kernelspec": {
      "name": "python3",
      "display_name": "Python 3"
    },
    "language_info": {
      "name": "python"
    }
  },
  "cells": [
    {
      "cell_type": "markdown",
      "metadata": {
        "id": "view-in-github",
        "colab_type": "text"
      },
      "source": [
        "<a href=\"https://colab.research.google.com/github/Luckymaster5/PythonBasics/blob/main/Lucky_01.ipynb\" target=\"_parent\"><img src=\"https://colab.research.google.com/assets/colab-badge.svg\" alt=\"Open In Colab\"/></a>"
      ]
    },
    {
      "cell_type": "code",
      "execution_count": 19,
      "metadata": {
        "colab": {
          "base_uri": "https://localhost:8080/"
        },
        "id": "LePMG9U1bQ_-",
        "outputId": "bf67dc41-12d5-47e2-f9e3-38b196e49a51"
      },
      "outputs": [
        {
          "output_type": "stream",
          "name": "stdout",
          "text": [
            "10\n"
          ]
        }
      ],
      "source": []
    },
    {
      "cell_type": "code",
      "source": [
        "def add():\n",
        "  a=int(input('enter 1st number: '))\n",
        "  b=int(input('enter 2nd number: '))\n",
        "  print(a+b)\n",
        "\n",
        "add()"
      ],
      "metadata": {
        "colab": {
          "base_uri": "https://localhost:8080/"
        },
        "id": "DmR-CVmpgXhz",
        "outputId": "f6d4865e-6a69-4e30-b591-011ef2033531"
      },
      "execution_count": 95,
      "outputs": [
        {
          "output_type": "stream",
          "name": "stdout",
          "text": [
            "enter 1st number: 9\n",
            "enter 2nd number: 8\n",
            "17\n"
          ]
        }
      ]
    },
    {
      "cell_type": "code",
      "source": [
        "def welcome():\n",
        "  fn=input('enter first name: ')\n",
        "  ln=input('enter last name: ')\n",
        "  print('Hello, Welcome',fn,ln,'!!')\n",
        "  sl=input('Which state do you live in?')\n",
        "  print('Wow, you live in', sl)\n",
        "  ll=input('is it hot there?')sd\n",
        "  print('Thats what I thought', ll)\n",
        "\n",
        "welcome()"
      ],
      "metadata": {
        "colab": {
          "base_uri": "https://localhost:8080/"
        },
        "id": "OE-J0QKupklx",
        "outputId": "10e31178-e0b6-415a-bdb4-47f546841d10"
      },
      "execution_count": 128,
      "outputs": [
        {
          "output_type": "stream",
          "name": "stdout",
          "text": [
            "enter first name: dfd\n",
            "enter last name: sd\n",
            "Hello, Welcome dfd sd !!\n",
            "Which state do you live in?g\n",
            "Wow, you live in g\n",
            "is it hot there?gds\n",
            "Thats what I thought gds\n"
          ]
        }
      ]
    },
    {
      "cell_type": "code",
      "source": [
        "def calculater():\n",
        "    d=input('enter first number: ')\n",
        "    di=int(d)\n",
        "    e=input('enter second number: ')\n",
        "    ei=int(e)\n",
        "    print('multiplication:', di*ei)\n",
        "    print('addition:', di+ei)\n",
        "    print('subtraction:', di-ei)\n",
        "    print('division:', di/ei)\n",
        "\n",
        "calculater()\n"
      ],
      "metadata": {
        "colab": {
          "base_uri": "https://localhost:8080/"
        },
        "id": "FdYfqFB6vJOU",
        "outputId": "4a2a0d09-29c6-4d8d-8178-7353bdd5f425"
      },
      "execution_count": 124,
      "outputs": [
        {
          "output_type": "stream",
          "name": "stdout",
          "text": [
            "enter first number: 6\n",
            "enter second number: 6\n",
            "multiplication: 36\n",
            "addition: 12\n",
            "subtraction: 0\n",
            "division: 1.0\n"
          ]
        }
      ]
    },
    {
      "cell_type": "code",
      "source": [
        "calculater()"
      ],
      "metadata": {
        "colab": {
          "base_uri": "https://localhost:8080/"
        },
        "id": "Z8KmxPdbzBhf",
        "outputId": "2d7b915f-ca5d-41a0-9082-8adf7df43cd2"
      },
      "execution_count": 125,
      "outputs": [
        {
          "output_type": "stream",
          "name": "stdout",
          "text": [
            "enter first number: 321\n",
            "enter second number: 123\n",
            "multiplication: 39483\n",
            "addition: 444\n",
            "subtraction: 198\n",
            "division: 2.6097560975609757\n"
          ]
        }
      ]
    },
    {
      "cell_type": "code",
      "source": [
        "add()"
      ],
      "metadata": {
        "colab": {
          "base_uri": "https://localhost:8080/"
        },
        "id": "Q8gSyQ4yhCzT",
        "outputId": "9881f4f1-b96a-4e80-80c5-bac918d07f06"
      },
      "execution_count": 94,
      "outputs": [
        {
          "output_type": "stream",
          "name": "stdout",
          "text": [
            "enter first name: pr\n",
            "enter last name: gfd\n",
            "Hello\n",
            "pr\n",
            "gfd\n"
          ]
        }
      ]
    },
    {
      "cell_type": "code",
      "source": [
        "for i in range(10):\n",
        "  for x in range(1):\n",
        "    print('*'*i*2)\n"
      ],
      "metadata": {
        "colab": {
          "base_uri": "https://localhost:8080/"
        },
        "id": "QjVQI9tb2ejK",
        "outputId": "a32416fa-833e-46ae-f240-fb12ad8cc4b6"
      },
      "execution_count": 149,
      "outputs": [
        {
          "output_type": "stream",
          "name": "stdout",
          "text": [
            "\n",
            "**\n",
            "****\n",
            "******\n",
            "********\n",
            "**********\n",
            "************\n",
            "**************\n",
            "****************\n",
            "******************\n"
          ]
        }
      ]
    }
  ]
}